{
 "cells": [
  {
   "cell_type": "code",
   "execution_count": null,
   "source": [
    "import pandas as pd\r\n",
    "import numpy as np\r\n",
    "\r\n",
    "import xgboost as xgb\r\n",
    "from xgboost import plot_importance, plot_tree\r\n",
    "from sklearn.metrics import mean_squared_error\r\n",
    "from sklearn.preprocessing import MinMaxScaler\r\n",
    "from sklearn.model_selection import train_test_split, GridSearchCV\r\n",
    "\r\n",
    "# Chart drawing\r\n",
    "import plotly as py\r\n",
    "import plotly.io as pio\r\n",
    "import plotly.graph_objects as go\r\n",
    "from plotly.subplots import make_subplots\r\n",
    "from plotly.offline import download_plotlyjs, init_notebook_mode, plot, iplot\r\n",
    "\r\n",
    "from fetch_data import *"
   ],
   "outputs": [],
   "metadata": {}
  },
  {
   "cell_type": "code",
   "execution_count": null,
   "source": [
    "# Get data from the API\r\n",
    "prices_data = fetchPriceData(id='bitcoin', vs_currency='usd')\r\n",
    "ohlc_data = fetchCandleData(id='bitcoin', vs_currency='usd')"
   ],
   "outputs": [],
   "metadata": {}
  },
  {
   "cell_type": "code",
   "execution_count": null,
   "source": [
    "prices_data['EMA_9'] = prices_data['prices'].ewm(9).mean().shift()\r\n",
    "prices_data['SMA_5'] = prices_data['prices'].rolling(5).mean().shift()\r\n",
    "prices_data['SMA_10'] = prices_data['prices'].rolling(10).mean().shift()\r\n",
    "prices_data['SMA_15'] = prices_data['prices'].rolling(15).mean().shift()\r\n",
    "prices_data['SMA_30'] = prices_data['prices'].rolling(30).mean().shift()"
   ],
   "outputs": [],
   "metadata": {}
  },
  {
   "cell_type": "code",
   "execution_count": 53,
   "source": [
    "def calculateRSI(prices_data, n=14):\r\n",
    "    \"\"\"Calculate the Relative Strength Index of an asset.\r\n",
    "\r\n",
    "    Args:\r\n",
    "        prices_data (pandas dataframe object): prices data\r\n",
    "        n (int, optional): number of . Defaults to 14.\r\n",
    "    Return:\r\n",
    "        rsi (pandas series object): relative strength index\r\n",
    "    \"\"\"\r\n",
    "    price = prices_data['prices']\r\n",
    "    delta = price.diff()\r\n",
    "    delta = delta[1:]\r\n",
    "\r\n",
    "    prices_up = delta.copy()\r\n",
    "    prices_up[prices_up < 0] = 0\r\n",
    "    prices_down = delta.copy()\r\n",
    "    prices_down[prices_down > 0] = 0\r\n",
    "\r\n",
    "    roll_up = prices_up.rolling(n).mean()\r\n",
    "    roll_down = prices_down.abs().rolling(n).mean()\r\n",
    "\r\n",
    "    relative_strength = roll_up / roll_down\r\n",
    "    rsi = 100.0 - (100.0 / (1.0 + relative_strength))\r\n",
    "\r\n",
    "    return rsi"
   ],
   "outputs": [],
   "metadata": {}
  },
  {
   "cell_type": "code",
   "execution_count": null,
   "source": [
    "prices_data['RSI'] = calculateRSI(prices_data).fillna(0)"
   ],
   "outputs": [],
   "metadata": {}
  },
  {
   "cell_type": "code",
   "execution_count": null,
   "source": [
    "def calculateMACD(prices_data):\r\n",
    "    \"\"\"Calculate the MACD of EMA12 and EMA26 of an asset\r\n",
    "\r\n",
    "    Args:\r\n",
    "        prices_data (dataframe): prices data\r\n",
    "\r\n",
    "    Returns:\r\n",
    "        macd (pandas series object): macd of the asset\r\n",
    "        macd_signal (pandas series object): macd signal of the asset\r\n",
    "    \"\"\"\r\n",
    "    ema12 = pd.Series(prices_data['prices'].ewm(span=12, min_periods=12).mean())\r\n",
    "    ema26 = pd.Series(prices_data['prices'].ewm(span=26, min_periods=26).mean())\r\n",
    "\r\n",
    "    macd = pd.Series(ema12 - ema26)\r\n",
    "    macd_signal = pd.Series(macd.ewm(span=9, min_periods=9).mean())\r\n",
    "\r\n",
    "    return macd, macd_signal"
   ],
   "outputs": [],
   "metadata": {}
  },
  {
   "cell_type": "code",
   "execution_count": null,
   "source": [
    "macd, macd_signal = calculateMACD(prices_data)\r\n",
    "prices_data['MACD'] = macd\r\n",
    "prices_data['MACD_signal'] = macd_signal"
   ],
   "outputs": [],
   "metadata": {}
  },
  {
   "cell_type": "code",
   "execution_count": null,
   "source": [
    "# Shift label(y) col by one value to predict the next day using today's data (technical indicators)\r\n",
    "prices_data['prices'] = prices_data['prices'].shift(-1)"
   ],
   "outputs": [],
   "metadata": {}
  },
  {
   "cell_type": "markdown",
   "source": [],
   "metadata": {}
  },
  {
   "cell_type": "code",
   "execution_count": null,
   "source": [
    "# Drop invalid samples - the samples where moving averages exceed \r\n",
    "prices_data = prices_data.iloc[33:]\r\n",
    "prices_data = prices_data[:-1] # since we did shifting by one\r\n",
    "prices_data.index = range(len(prices_data)) # update indexes"
   ],
   "outputs": [],
   "metadata": {}
  },
  {
   "cell_type": "code",
   "execution_count": null,
   "source": [
    "prices_data.shape"
   ],
   "outputs": [],
   "metadata": {}
  },
  {
   "cell_type": "code",
   "execution_count": null,
   "source": [
    "test_size  = 0.15\r\n",
    "valid_size = 0.15\r\n",
    "\r\n",
    "test_split_idx  = int(prices_data.shape[0] * (1-test_size))\r\n",
    "valid_split_idx = int(prices_data.shape[0] * (1-(valid_size+test_size)))\r\n",
    "\r\n",
    "train_prices_data  = prices_data.loc[:valid_split_idx].copy()\r\n",
    "valid_prices_data  = prices_data.loc[valid_split_idx+1:test_split_idx].copy()\r\n",
    "test_prices_data   = prices_data.loc[test_split_idx+1:].copy()\r\n",
    "\r\n",
    "fig = go.Figure()\r\n",
    "fig.add_trace(go.Scatter(x=train_prices_data.time, y=train_prices_data.prices, name='Training'))\r\n",
    "fig.add_trace(go.Scatter(x=valid_prices_data.time, y=valid_prices_data.prices, name='Validation'))\r\n",
    "fig.add_trace(go.Scatter(x=test_prices_data.time,  y=test_prices_data.prices,  name='Test'))"
   ],
   "outputs": [],
   "metadata": {}
  },
  {
   "cell_type": "code",
   "execution_count": null,
   "source": [
    "drop_cols = ['market_caps', 'total_volumes', 'time', 'date']\r\n",
    "\r\n",
    "train_prices_data = train_prices_data.drop(drop_cols, axis=1)\r\n",
    "valid_prices_data = valid_prices_data.drop(drop_cols, axis=1)\r\n",
    "test_prices_data = test_prices_data.drop(drop_cols, axis=1)"
   ],
   "outputs": [],
   "metadata": {}
  },
  {
   "cell_type": "code",
   "execution_count": null,
   "source": [
    "y_train = train_prices_data['prices'].copy()\r\n",
    "X_train = train_prices_data.drop(['prices'], axis=1)\r\n",
    "\r\n",
    "y_valid = valid_prices_data['prices'].copy()\r\n",
    "X_valid = valid_prices_data.drop(['prices'], axis=1)\r\n",
    "\r\n",
    "y_test  = test_prices_data['prices'].copy()\r\n",
    "X_test  = test_prices_data.drop(['prices'], axis=1)\r\n",
    "\r\n",
    "X_train.info()"
   ],
   "outputs": [],
   "metadata": {}
  },
  {
   "cell_type": "code",
   "execution_count": null,
   "source": [
    "%%time\r\n",
    "\r\n",
    "parameters = {\r\n",
    "    'n_estimators': [400],\r\n",
    "    'learning_rate': [0.01, 0.05],\r\n",
    "    'max_depth': [8],\r\n",
    "    'gamma': [0.01, 0.02],\r\n",
    "    'random_state': [42]\r\n",
    "}\r\n",
    "\r\n",
    "eval_set = [(X_train, y_train), (X_valid, y_valid)]\r\n",
    "model = xgb.XGBRegressor(eval_set=eval_set, objective='reg:squarederror', verbose=False)\r\n",
    "clf = GridSearchCV(model, parameters)\r\n",
    "\r\n",
    "clf.fit(X_train, y_train)\r\n",
    "\r\n",
    "print(f'Best params: {clf.best_params_}')\r\n",
    "print(f'Best validation score = {clf.best_score_}')"
   ],
   "outputs": [],
   "metadata": {}
  },
  {
   "cell_type": "code",
   "execution_count": null,
   "source": [
    "%%time\r\n",
    "\r\n",
    "model = xgb.XGBRegressor(**clf.best_params_, objective='reg:squarederror')\r\n",
    "model.fit(X_train, y_train, eval_set=eval_set, verbose=False)"
   ],
   "outputs": [],
   "metadata": {}
  },
  {
   "cell_type": "code",
   "execution_count": null,
   "source": [
    "plot_importance(model);"
   ],
   "outputs": [],
   "metadata": {}
  },
  {
   "cell_type": "code",
   "execution_count": null,
   "source": [
    "y_pred = model.predict(X_test)\r\n",
    "print(f'y_true = {np.array(y_test)[:5]}')\r\n",
    "print(f'y_pred = {y_pred[:5]}')"
   ],
   "outputs": [],
   "metadata": {}
  },
  {
   "cell_type": "code",
   "execution_count": null,
   "source": [
    "print(f'mean_squared_error = {mean_squared_error(y_test, y_pred)}')"
   ],
   "outputs": [],
   "metadata": {}
  },
  {
   "cell_type": "code",
   "execution_count": null,
   "source": [
    "predicted_prices = prices_data.loc[test_split_idx+1:].copy()\r\n",
    "predicted_prices['prices'] = y_pred\r\n",
    "\r\n",
    "fig = make_subplots(rows=2, cols=1)\r\n",
    "fig.add_trace(go.Scatter(x=prices_data.time, y=prices_data.prices,\r\n",
    "                         name='Truth',\r\n",
    "                         marker_color='LightSkyBlue'), row=1, col=1)\r\n",
    "\r\n",
    "fig.add_trace(go.Scatter(x=predicted_prices.time,\r\n",
    "                         y=predicted_prices.prices,\r\n",
    "                         name='Prediction',\r\n",
    "                         marker_color='MediumPurple'), row=1, col=1)\r\n",
    "\r\n",
    "fig.add_trace(go.Scatter(x=predicted_prices.time,\r\n",
    "                         y=y_test,\r\n",
    "                         name='Truth',\r\n",
    "                         marker_color='LightSkyBlue',\r\n",
    "                         showlegend=False), row=2, col=1)\r\n",
    "\r\n",
    "fig.add_trace(go.Scatter(x=predicted_prices.time,\r\n",
    "                         y=y_pred,\r\n",
    "                         name='Prediction',\r\n",
    "                         marker_color='MediumPurple',\r\n",
    "                         showlegend=False), row=2, col=1)"
   ],
   "outputs": [],
   "metadata": {}
  },
  {
   "cell_type": "code",
   "execution_count": 2,
   "source": [
    "import pandas as pd\r\n",
    "from fetch_data import *\r\n",
    "from feature_extraction import extractAll"
   ],
   "outputs": [],
   "metadata": {}
  },
  {
   "cell_type": "code",
   "execution_count": 3,
   "source": [
    "prices_data = fetchPriceData()"
   ],
   "outputs": [],
   "metadata": {}
  },
  {
   "cell_type": "code",
   "execution_count": 4,
   "source": [
    "clean = extractAll(prices_data)"
   ],
   "outputs": [],
   "metadata": {}
  },
  {
   "cell_type": "code",
   "execution_count": 6,
   "source": [
    "import xgboost as xgb"
   ],
   "outputs": [],
   "metadata": {}
  },
  {
   "cell_type": "code",
   "execution_count": 63,
   "source": [
    "clean_test = clean.iloc[-2:, :]\r\n",
    "clean = clean.iloc[:-2, :]\r\n",
    "clean_test"
   ],
   "outputs": [
    {
     "output_type": "execute_result",
     "data": {
      "text/plain": [
       "            prices         EMA_9         SMA_5        SMA_10        SMA_15  \\\n",
       "1762  39123.753751  38051.430041  38334.063125  38223.252109  38110.483655   \n",
       "1763  39850.202184  38153.946414  38549.128039  38261.540233  38227.484296   \n",
       "\n",
       "            SMA_30        RSI        MACD  MACD_signal  \n",
       "1762  37862.692290  69.379520  316.622724   211.052483  \n",
       "1763  37857.227526  67.349403  356.370119   240.116010  "
      ],
      "text/html": [
       "<div>\n",
       "<style scoped>\n",
       "    .dataframe tbody tr th:only-of-type {\n",
       "        vertical-align: middle;\n",
       "    }\n",
       "\n",
       "    .dataframe tbody tr th {\n",
       "        vertical-align: top;\n",
       "    }\n",
       "\n",
       "    .dataframe thead th {\n",
       "        text-align: right;\n",
       "    }\n",
       "</style>\n",
       "<table border=\"1\" class=\"dataframe\">\n",
       "  <thead>\n",
       "    <tr style=\"text-align: right;\">\n",
       "      <th></th>\n",
       "      <th>prices</th>\n",
       "      <th>EMA_9</th>\n",
       "      <th>SMA_5</th>\n",
       "      <th>SMA_10</th>\n",
       "      <th>SMA_15</th>\n",
       "      <th>SMA_30</th>\n",
       "      <th>RSI</th>\n",
       "      <th>MACD</th>\n",
       "      <th>MACD_signal</th>\n",
       "    </tr>\n",
       "  </thead>\n",
       "  <tbody>\n",
       "    <tr>\n",
       "      <th>1762</th>\n",
       "      <td>39123.753751</td>\n",
       "      <td>38051.430041</td>\n",
       "      <td>38334.063125</td>\n",
       "      <td>38223.252109</td>\n",
       "      <td>38110.483655</td>\n",
       "      <td>37862.692290</td>\n",
       "      <td>69.379520</td>\n",
       "      <td>316.622724</td>\n",
       "      <td>211.052483</td>\n",
       "    </tr>\n",
       "    <tr>\n",
       "      <th>1763</th>\n",
       "      <td>39850.202184</td>\n",
       "      <td>38153.946414</td>\n",
       "      <td>38549.128039</td>\n",
       "      <td>38261.540233</td>\n",
       "      <td>38227.484296</td>\n",
       "      <td>37857.227526</td>\n",
       "      <td>67.349403</td>\n",
       "      <td>356.370119</td>\n",
       "      <td>240.116010</td>\n",
       "    </tr>\n",
       "  </tbody>\n",
       "</table>\n",
       "</div>"
      ]
     },
     "metadata": {},
     "execution_count": 63
    }
   ],
   "metadata": {}
  },
  {
   "cell_type": "code",
   "execution_count": 28,
   "source": [
    "parameters = {'gamma':0.01, 'learning_rate':0.05, 'max_depth':8, 'n_estimators':400}\r\n",
    "model = xgb.XGBRegressor(**parameters, objective='reg:squarederror')\r\n",
    "y_train = clean['prices'].copy()\r\n",
    "X_train = clean.drop(['prices'], axis=1)\r\n",
    "\r\n",
    "y_test = clean_test['prices'].copy()\r\n",
    "X_test = clean_test.drop(['prices'], axis=1)"
   ],
   "outputs": [],
   "metadata": {}
  },
  {
   "cell_type": "code",
   "execution_count": 33,
   "source": [
    "model.fit(X_train, y_train, verbose=False)"
   ],
   "outputs": [
    {
     "output_type": "execute_result",
     "data": {
      "text/plain": [
       "XGBRegressor(base_score=0.5, booster='gbtree', colsample_bylevel=1,\n",
       "             colsample_bynode=1, colsample_bytree=1, gamma=0.01, gpu_id=-1,\n",
       "             importance_type='gain', interaction_constraints='',\n",
       "             learning_rate=0.05, max_delta_step=0, max_depth=8,\n",
       "             min_child_weight=1, missing=nan, monotone_constraints='()',\n",
       "             n_estimators=400, n_jobs=8, num_parallel_tree=1, random_state=0,\n",
       "             reg_alpha=0, reg_lambda=1, scale_pos_weight=1, subsample=1,\n",
       "             tree_method='exact', validate_parameters=1, verbosity=None)"
      ]
     },
     "metadata": {},
     "execution_count": 33
    }
   ],
   "metadata": {}
  },
  {
   "cell_type": "code",
   "execution_count": 157,
   "source": [
    "# Now I want to do predictions\r\n",
    "prediction_days = 10\r\n",
    "last_14 = clean.iloc[-14:, :]\r\n",
    "df_res = pd.DataFrame(columns=['prices', 'EMA_9', 'SMA_5','SMA_10','SMA_15','SMA_30','RSI',\t'MACD',\t'MACD_signal'])\r\n",
    "# print(y_test)\r\n",
    "# print(model.predict(X_test))\r\n",
    "# last_14"
   ],
   "outputs": [],
   "metadata": {}
  },
  {
   "cell_type": "code",
   "execution_count": 172,
   "source": [
    "def trainModel(prices_data):\r\n",
    "    \"\"\"Train the model on historical data\r\n",
    "\r\n",
    "    Args:\r\n",
    "        prices_data (pandas dataframe object): prices _data\r\n",
    "\r\n",
    "    Returns:\r\n",
    "        model: XGBRegressor model trained on live data\r\n",
    "    \"\"\"\r\n",
    "    X_train = clean.drop(['prices'], axis=1)\r\n",
    "    y_train = clean['prices'].copy()\r\n",
    "\r\n",
    "    # Make the model on given parameters\r\n",
    "    parameters = {'gamma':0.01, 'learning_rate':0.05, 'max_depth':8, 'n_estimators':400}\r\n",
    "    model = xgb.XGBRegressor(**parameters, objective='reg:squarederror')\r\n",
    "    # Train model\r\n",
    "    model.fit(X_train, y_train, verbose=False)\r\n",
    "\r\n",
    "    return model"
   ],
   "outputs": [],
   "metadata": {}
  },
  {
   "cell_type": "code",
   "execution_count": 192,
   "source": [
    "def quantPredictPrices(prices_data, num_days):\r\n",
    "    \"\"\"Predict prices based on historical data\r\n",
    "\r\n",
    "    Args:\r\n",
    "        prices_data (pandas dataframe object): prices data\r\n",
    "        num_ticks (int): number of days in future to predict the results\r\n",
    "    Returns:\r\n",
    "        (pandas dataframe object): dataframe with future predicted prices\r\n",
    "    \"\"\"\r\n",
    "    # Store time for plotting\r\n",
    "    latest_time = prices_data.iloc[-1]['time']\r\n",
    "    future_times = []\r\n",
    "    predictions = pd.DataFrame(columns=['prices', 'EMA_9', 'SMA_5','SMA_10','SMA_15','SMA_30','RSI',\t'MACD',\t'MACD_signal'])\r\n",
    "\r\n",
    "    prediction_data = extractAll(prices_data)\r\n",
    "    model = trainModel(prediction_data)\r\n",
    "    # Now lets do predictions\r\n",
    "\r\n",
    "    latest_ticks = prediction_data.iloc[-14:, :]\r\n",
    "\r\n",
    "    # Get the data for that many days (6 * num_days as we have 4-hour ticks data)\r\n",
    "    for i in range(1, num_days*6 + 1): \r\n",
    "        X = latest_ticks.drop(['prices'], axis=1)\r\n",
    "        y = latest_ticks.iloc[-1]['prices']\r\n",
    "\r\n",
    "        features = X.iloc[-1:, :]\r\n",
    "        predict_features = np.array(features).reshape(-1, 8)\r\n",
    "\r\n",
    "        # Get the next price\r\n",
    "        price = model.predict(predict_features)[0]\r\n",
    "\r\n",
    "        # Calculate other features based on todays price\r\n",
    "        ema9  = (y * (1 - 2/(9 + 1)) + price * (2/(9 + 1)))\r\n",
    "        sma5  = ((features['SMA_5'].values[0] * 4 + price) / 5)\r\n",
    "        sma10 = ((features['SMA_10'].values[0] * 9 + price) / 10)\r\n",
    "        sma15 = ((features['SMA_15'].values[0] * 14 + price) / 15)\r\n",
    "        sma30 = ((features['SMA_30'].values[0] * 29 + price) / 30)\r\n",
    "\r\n",
    "        rsi = calculateRSI(prices_data = latest_ticks.iloc[-13:, :], today_price=price).iloc[-1]\r\n",
    "\r\n",
    "        macd = (sma30 - sma15)\r\n",
    "        macd_signal = (features['MACD_signal'].values[0] * (1 - 2/(9+1)) + macd * (2/(9+1)))\r\n",
    "\r\n",
    "        latest_ticks.loc[len(latest_ticks)] = [price, ema9, sma5, sma10, sma15, sma30, rsi, macd, macd_signal]\r\n",
    "        predictions.loc[len(predictions)]   = [price, ema9, sma5, sma10, sma15, sma30, rsi, macd, macd_signal]\r\n",
    "        future_times.append(latest_time + datetime.timedelta(hours = 4 * i))\r\n",
    "    \r\n",
    "    # Add date and time\r\n",
    "    predictions['time'] = pd.Series(future_times)\r\n",
    "    predictions['date'] = predictions['time'].dt.date\r\n",
    "\r\n",
    "    return predictions\r\n",
    "    "
   ],
   "outputs": [],
   "metadata": {}
  },
  {
   "cell_type": "code",
   "execution_count": 193,
   "source": [
    "# a = fetchPriceData()"
   ],
   "outputs": [],
   "metadata": {}
  },
  {
   "cell_type": "code",
   "execution_count": 194,
   "source": [
    "res = quantPredictPrices(a, 20)"
   ],
   "outputs": [
    {
     "output_type": "stream",
     "name": "stderr",
     "text": [
      "c:\\Users\\lenovo\\Desktop\\quant-predictions-crypto\\env\\lib\\site-packages\\pandas\\core\\indexing.py:723: SettingWithCopyWarning: \n",
      "A value is trying to be set on a copy of a slice from a DataFrame\n",
      "\n",
      "See the caveats in the documentation: https://pandas.pydata.org/pandas-docs/stable/user_guide/indexing.html#returning-a-view-versus-a-copy\n",
      "  iloc._setitem_with_indexer(indexer, value, self.name)\n"
     ]
    }
   ],
   "metadata": {}
  },
  {
   "cell_type": "code",
   "execution_count": 197,
   "source": [
    "(res)"
   ],
   "outputs": [
    {
     "output_type": "execute_result",
     "data": {
      "text/plain": [
       "           prices         EMA_9         SMA_5        SMA_10        SMA_15  \\\n",
       "0    39446.632812  39830.932366  39779.335329  39325.916347  38899.363773   \n",
       "1    37305.398438  39018.385938  39284.547951  39123.864556  38793.099417   \n",
       "2    37020.261719  37248.371094  38831.690705  38913.504272  38674.910237   \n",
       "3    36976.355469  37011.480469  38460.623657  38719.789392  38561.673253   \n",
       "4    37166.496094  37014.383594  38201.798145  38564.460062  38468.661442   \n",
       "..            ...           ...           ...           ...           ...   \n",
       "115  29870.265625  29820.218750  29808.183590  29823.227391  29907.296439   \n",
       "116  29870.265625  29870.265625  29820.599997  29827.931214  29904.827718   \n",
       "117  29737.660156  29843.744531  29804.012029  29818.904108  29893.683214   \n",
       "118  29743.492188  29738.826563  29791.908061  29811.362916  29883.670479   \n",
       "119  29743.492188  29743.492188  29782.224886  29804.575843  29874.325259   \n",
       "\n",
       "           SMA_30  RSI        MACD  MACD_signal                time  \\\n",
       "0    38218.131231  NaN -681.232542   238.031396 2021-08-01 08:01:14   \n",
       "1    38187.706804  NaN -605.392613    69.346594 2021-08-05 08:01:14   \n",
       "2    38148.791968  NaN -526.118269   -49.746378 2021-08-09 08:01:14   \n",
       "3    38109.710752  NaN -451.962501  -130.189603 2021-08-13 08:01:14   \n",
       "4    38078.270263  NaN -390.391179  -182.229918 2021-08-17 08:01:14   \n",
       "..            ...  ...         ...          ...                 ...   \n",
       "115  30490.028479  NaN  582.732040   652.182083 2022-11-04 08:01:14   \n",
       "116  30469.369717  NaN  564.541999   634.654066 2022-11-08 08:01:14   \n",
       "117  30444.979398  NaN  551.296185   617.982490 2022-11-12 08:01:14   \n",
       "118  30421.596491  NaN  537.926013   601.971194 2022-11-16 08:01:14   \n",
       "119  30398.993015  NaN  524.667755   586.510507 2022-11-20 08:01:14   \n",
       "\n",
       "           date  \n",
       "0    2021-08-01  \n",
       "1    2021-08-05  \n",
       "2    2021-08-09  \n",
       "3    2021-08-13  \n",
       "4    2021-08-17  \n",
       "..          ...  \n",
       "115  2022-11-04  \n",
       "116  2022-11-08  \n",
       "117  2022-11-12  \n",
       "118  2022-11-16  \n",
       "119  2022-11-20  \n",
       "\n",
       "[120 rows x 11 columns]"
      ],
      "text/html": [
       "<div>\n",
       "<style scoped>\n",
       "    .dataframe tbody tr th:only-of-type {\n",
       "        vertical-align: middle;\n",
       "    }\n",
       "\n",
       "    .dataframe tbody tr th {\n",
       "        vertical-align: top;\n",
       "    }\n",
       "\n",
       "    .dataframe thead th {\n",
       "        text-align: right;\n",
       "    }\n",
       "</style>\n",
       "<table border=\"1\" class=\"dataframe\">\n",
       "  <thead>\n",
       "    <tr style=\"text-align: right;\">\n",
       "      <th></th>\n",
       "      <th>prices</th>\n",
       "      <th>EMA_9</th>\n",
       "      <th>SMA_5</th>\n",
       "      <th>SMA_10</th>\n",
       "      <th>SMA_15</th>\n",
       "      <th>SMA_30</th>\n",
       "      <th>RSI</th>\n",
       "      <th>MACD</th>\n",
       "      <th>MACD_signal</th>\n",
       "      <th>time</th>\n",
       "      <th>date</th>\n",
       "    </tr>\n",
       "  </thead>\n",
       "  <tbody>\n",
       "    <tr>\n",
       "      <th>0</th>\n",
       "      <td>39446.632812</td>\n",
       "      <td>39830.932366</td>\n",
       "      <td>39779.335329</td>\n",
       "      <td>39325.916347</td>\n",
       "      <td>38899.363773</td>\n",
       "      <td>38218.131231</td>\n",
       "      <td>NaN</td>\n",
       "      <td>-681.232542</td>\n",
       "      <td>238.031396</td>\n",
       "      <td>2021-08-01 08:01:14</td>\n",
       "      <td>2021-08-01</td>\n",
       "    </tr>\n",
       "    <tr>\n",
       "      <th>1</th>\n",
       "      <td>37305.398438</td>\n",
       "      <td>39018.385938</td>\n",
       "      <td>39284.547951</td>\n",
       "      <td>39123.864556</td>\n",
       "      <td>38793.099417</td>\n",
       "      <td>38187.706804</td>\n",
       "      <td>NaN</td>\n",
       "      <td>-605.392613</td>\n",
       "      <td>69.346594</td>\n",
       "      <td>2021-08-05 08:01:14</td>\n",
       "      <td>2021-08-05</td>\n",
       "    </tr>\n",
       "    <tr>\n",
       "      <th>2</th>\n",
       "      <td>37020.261719</td>\n",
       "      <td>37248.371094</td>\n",
       "      <td>38831.690705</td>\n",
       "      <td>38913.504272</td>\n",
       "      <td>38674.910237</td>\n",
       "      <td>38148.791968</td>\n",
       "      <td>NaN</td>\n",
       "      <td>-526.118269</td>\n",
       "      <td>-49.746378</td>\n",
       "      <td>2021-08-09 08:01:14</td>\n",
       "      <td>2021-08-09</td>\n",
       "    </tr>\n",
       "    <tr>\n",
       "      <th>3</th>\n",
       "      <td>36976.355469</td>\n",
       "      <td>37011.480469</td>\n",
       "      <td>38460.623657</td>\n",
       "      <td>38719.789392</td>\n",
       "      <td>38561.673253</td>\n",
       "      <td>38109.710752</td>\n",
       "      <td>NaN</td>\n",
       "      <td>-451.962501</td>\n",
       "      <td>-130.189603</td>\n",
       "      <td>2021-08-13 08:01:14</td>\n",
       "      <td>2021-08-13</td>\n",
       "    </tr>\n",
       "    <tr>\n",
       "      <th>4</th>\n",
       "      <td>37166.496094</td>\n",
       "      <td>37014.383594</td>\n",
       "      <td>38201.798145</td>\n",
       "      <td>38564.460062</td>\n",
       "      <td>38468.661442</td>\n",
       "      <td>38078.270263</td>\n",
       "      <td>NaN</td>\n",
       "      <td>-390.391179</td>\n",
       "      <td>-182.229918</td>\n",
       "      <td>2021-08-17 08:01:14</td>\n",
       "      <td>2021-08-17</td>\n",
       "    </tr>\n",
       "    <tr>\n",
       "      <th>...</th>\n",
       "      <td>...</td>\n",
       "      <td>...</td>\n",
       "      <td>...</td>\n",
       "      <td>...</td>\n",
       "      <td>...</td>\n",
       "      <td>...</td>\n",
       "      <td>...</td>\n",
       "      <td>...</td>\n",
       "      <td>...</td>\n",
       "      <td>...</td>\n",
       "      <td>...</td>\n",
       "    </tr>\n",
       "    <tr>\n",
       "      <th>115</th>\n",
       "      <td>29870.265625</td>\n",
       "      <td>29820.218750</td>\n",
       "      <td>29808.183590</td>\n",
       "      <td>29823.227391</td>\n",
       "      <td>29907.296439</td>\n",
       "      <td>30490.028479</td>\n",
       "      <td>NaN</td>\n",
       "      <td>582.732040</td>\n",
       "      <td>652.182083</td>\n",
       "      <td>2022-11-04 08:01:14</td>\n",
       "      <td>2022-11-04</td>\n",
       "    </tr>\n",
       "    <tr>\n",
       "      <th>116</th>\n",
       "      <td>29870.265625</td>\n",
       "      <td>29870.265625</td>\n",
       "      <td>29820.599997</td>\n",
       "      <td>29827.931214</td>\n",
       "      <td>29904.827718</td>\n",
       "      <td>30469.369717</td>\n",
       "      <td>NaN</td>\n",
       "      <td>564.541999</td>\n",
       "      <td>634.654066</td>\n",
       "      <td>2022-11-08 08:01:14</td>\n",
       "      <td>2022-11-08</td>\n",
       "    </tr>\n",
       "    <tr>\n",
       "      <th>117</th>\n",
       "      <td>29737.660156</td>\n",
       "      <td>29843.744531</td>\n",
       "      <td>29804.012029</td>\n",
       "      <td>29818.904108</td>\n",
       "      <td>29893.683214</td>\n",
       "      <td>30444.979398</td>\n",
       "      <td>NaN</td>\n",
       "      <td>551.296185</td>\n",
       "      <td>617.982490</td>\n",
       "      <td>2022-11-12 08:01:14</td>\n",
       "      <td>2022-11-12</td>\n",
       "    </tr>\n",
       "    <tr>\n",
       "      <th>118</th>\n",
       "      <td>29743.492188</td>\n",
       "      <td>29738.826563</td>\n",
       "      <td>29791.908061</td>\n",
       "      <td>29811.362916</td>\n",
       "      <td>29883.670479</td>\n",
       "      <td>30421.596491</td>\n",
       "      <td>NaN</td>\n",
       "      <td>537.926013</td>\n",
       "      <td>601.971194</td>\n",
       "      <td>2022-11-16 08:01:14</td>\n",
       "      <td>2022-11-16</td>\n",
       "    </tr>\n",
       "    <tr>\n",
       "      <th>119</th>\n",
       "      <td>29743.492188</td>\n",
       "      <td>29743.492188</td>\n",
       "      <td>29782.224886</td>\n",
       "      <td>29804.575843</td>\n",
       "      <td>29874.325259</td>\n",
       "      <td>30398.993015</td>\n",
       "      <td>NaN</td>\n",
       "      <td>524.667755</td>\n",
       "      <td>586.510507</td>\n",
       "      <td>2022-11-20 08:01:14</td>\n",
       "      <td>2022-11-20</td>\n",
       "    </tr>\n",
       "  </tbody>\n",
       "</table>\n",
       "<p>120 rows × 11 columns</p>\n",
       "</div>"
      ]
     },
     "metadata": {},
     "execution_count": 197
    }
   ],
   "metadata": {}
  },
  {
   "cell_type": "code",
   "execution_count": 162,
   "source": [
    "for i in range(20):\r\n",
    "    import numpy as np\r\n",
    "    X = last_14.drop(['prices'], axis=1)\r\n",
    "    y = last_14['prices']\r\n",
    "\r\n",
    "    features = X.iloc[-1:, :]\r\n",
    "\r\n",
    "    # print(np.array(features))\r\n",
    "    # print(features)\r\n",
    "    predict_features = np.array(features).reshape(-1, 8)\r\n",
    "    # print('---------------------------')\r\n",
    "    # print(predict_features)\r\n",
    "    # price = model.predict(predict_features)\r\n",
    "    # print('---------------------------')\r\n",
    "    # print(price)\r\n",
    "    ema9  = (y.iloc[-1] * (1 - 2/(9 + 1)) + price * (2/(9 + 1)))\r\n",
    "    sma5  = (features['SMA_5'].values[0] * 4 + price) / 5\r\n",
    "    sma10 = (features['SMA_10'].values[0] * 9 + price) / 10\r\n",
    "    sma15 = (features['SMA_15'].values[0] * 14 + price) / 15\r\n",
    "    sma30 = (features['SMA_30'].values[0] * 29 + price) / 30\r\n",
    "\r\n",
    "    rsi = calculateRSI(prices_data = last_14.iloc[-14:, :], today_price = price)\r\n",
    "\r\n",
    "    macd = (sma30 - sma15)\r\n",
    "    macd_signal = (features['MACD_signal'].values[0] * (1 - 2/(9+1)) + macd * (2/(9+1)) )\r\n",
    "    # print('---------------------------')\r\n",
    "\r\n",
    "    # print(price[0])\r\n",
    "    # print('---------------------------')\r\n",
    "\r\n",
    "    # print(ema9[0]) \r\n",
    "    # print('---------------------------')\r\n",
    "\r\n",
    "    # print(sma5[0], sma10[0], sma15[0], sma30[0])\r\n",
    "    # print('---------------------------')\r\n",
    "\r\n",
    "    # print(rsi.iloc[-1])\r\n",
    "    # print('---------------------------')\r\n",
    "    # print(features['MACD_signal'].values[0])\r\n",
    "    # print(macd[0], macd_signal[0])\r\n",
    "    last_14.loc[len(last_14)] = [price[0], ema9[0], sma5[0], sma10[0], sma15[0], sma30[0], rsi.iloc[-1], macd[0], macd_signal[0]]\r\n",
    "    df_res.loc[len(df_res.index)] = [price[0], ema9[0], sma5[0], sma10[0], sma15[0], sma30[0], rsi.iloc[-1], macd[0], macd_signal[0]]\r\n",
    "\r\n",
    "\r\n",
    "    "
   ],
   "outputs": [
    {
     "output_type": "stream",
     "name": "stderr",
     "text": [
      "c:\\Users\\lenovo\\Desktop\\quant-predictions-crypto\\env\\lib\\site-packages\\pandas\\core\\indexing.py:723: SettingWithCopyWarning: \n",
      "A value is trying to be set on a copy of a slice from a DataFrame\n",
      "\n",
      "See the caveats in the documentation: https://pandas.pydata.org/pandas-docs/stable/user_guide/indexing.html#returning-a-view-versus-a-copy\n",
      "  iloc._setitem_with_indexer(indexer, value, self.name)\n"
     ]
    }
   ],
   "metadata": {}
  },
  {
   "cell_type": "code",
   "execution_count": 161,
   "source": [
    "df_res"
   ],
   "outputs": [
    {
     "output_type": "execute_result",
     "data": {
      "text/plain": [
       "          prices         EMA_9         SMA_5        SMA_10        SMA_15  \\\n",
       "0   39013.406250  39063.957031  38240.898438  38246.148438  38028.035156   \n",
       "1   38629.968750  38936.718750  38318.710938  38284.531250  38068.167969   \n",
       "2   38628.007812  38629.578125  38380.570312  38318.878906  38105.492188   \n",
       "3   38471.960938  38596.796875  38398.851562  38334.187500  38129.921875   \n",
       "4   38289.222656  38435.414062  38376.925781  38329.691406  38140.542969   \n",
       "5   38547.132812  38340.804688  38410.968750  38351.433594  38167.648438   \n",
       "6   38413.996094  38520.507812  38411.574219  38357.691406  38184.070312   \n",
       "7   38469.421875  38425.082031  38423.144531  38368.863281  38203.097656   \n",
       "8   38504.519531  38476.441406  38439.417969  38382.429688  38223.191406   \n",
       "9   38608.886719  38525.390625  38473.312500  38405.074219  38248.902344   \n",
       "10  38603.945312  38607.898438  38499.437500  38424.960938  38272.570312   \n",
       "11  38568.609375  38596.878906  38513.273438  38439.324219  38292.308594   \n",
       "12  38622.648438  38579.417969  38535.148438  38457.656250  38314.328125   \n",
       "13  38003.125000  38498.742188  38428.742188  38412.203125  38293.582031   \n",
       "14  37788.558594  37960.210938  38300.707031  38349.835938  38259.914062   \n",
       "15  38122.160156  37855.281250  38264.996094  38327.070312  38250.734375   \n",
       "16  38347.992188  38167.328125  38281.593750  38329.164062  38257.214844   \n",
       "17  38295.167969  38337.429688  38284.308594  38325.761719  38259.746094   \n",
       "18  38354.195312  38306.972656  38298.289062  38328.601562  38266.042969   \n",
       "19  38608.230469  38405.000000  38360.277344  38356.562500  38288.859375   \n",
       "\n",
       "          SMA_30        RSI        MACD  MACD_signal  \n",
       "0   37897.886719  65.829088 -130.148438   121.698250  \n",
       "1   37922.292969  56.266648 -145.875000    68.183594  \n",
       "2   37945.816406  49.791772 -159.675781    22.611719  \n",
       "3   37963.355469  46.801349 -166.566406   -15.223907  \n",
       "4   37974.214844  52.281825 -166.328125   -45.444752  \n",
       "5   37993.312500  55.305771 -174.335938   -71.222992  \n",
       "6   38007.332031  62.285041 -176.738281   -92.326050  \n",
       "7   38022.734375  61.129786 -180.363281  -109.933502  \n",
       "8   38038.792969  59.243574 -184.398438  -124.826492  \n",
       "9   38057.796875  59.960213 -191.105469  -138.082291  \n",
       "10  38076.003906  59.533281 -196.566406  -149.779114  \n",
       "11  38092.425781  55.785693 -199.882812  -159.799850  \n",
       "12  38110.101562  30.595674 -204.226562  -168.685196  \n",
       "13  38106.539062  24.283842 -187.042969  -172.356750  \n",
       "14  38095.937500  22.641664 -163.976562  -170.680725  \n",
       "15  38096.812500  38.399265 -153.921875  -167.328964  \n",
       "16  38105.183594  44.196718 -152.031250  -164.269424  \n",
       "17  38111.515625  46.172218 -148.230469  -161.061630  \n",
       "18  38119.609375  51.486361 -146.433594  -158.136017  \n",
       "19  38135.894531  51.400196 -152.964844  -157.101776  "
      ],
      "text/html": [
       "<div>\n",
       "<style scoped>\n",
       "    .dataframe tbody tr th:only-of-type {\n",
       "        vertical-align: middle;\n",
       "    }\n",
       "\n",
       "    .dataframe tbody tr th {\n",
       "        vertical-align: top;\n",
       "    }\n",
       "\n",
       "    .dataframe thead th {\n",
       "        text-align: right;\n",
       "    }\n",
       "</style>\n",
       "<table border=\"1\" class=\"dataframe\">\n",
       "  <thead>\n",
       "    <tr style=\"text-align: right;\">\n",
       "      <th></th>\n",
       "      <th>prices</th>\n",
       "      <th>EMA_9</th>\n",
       "      <th>SMA_5</th>\n",
       "      <th>SMA_10</th>\n",
       "      <th>SMA_15</th>\n",
       "      <th>SMA_30</th>\n",
       "      <th>RSI</th>\n",
       "      <th>MACD</th>\n",
       "      <th>MACD_signal</th>\n",
       "    </tr>\n",
       "  </thead>\n",
       "  <tbody>\n",
       "    <tr>\n",
       "      <th>0</th>\n",
       "      <td>39013.406250</td>\n",
       "      <td>39063.957031</td>\n",
       "      <td>38240.898438</td>\n",
       "      <td>38246.148438</td>\n",
       "      <td>38028.035156</td>\n",
       "      <td>37897.886719</td>\n",
       "      <td>65.829088</td>\n",
       "      <td>-130.148438</td>\n",
       "      <td>121.698250</td>\n",
       "    </tr>\n",
       "    <tr>\n",
       "      <th>1</th>\n",
       "      <td>38629.968750</td>\n",
       "      <td>38936.718750</td>\n",
       "      <td>38318.710938</td>\n",
       "      <td>38284.531250</td>\n",
       "      <td>38068.167969</td>\n",
       "      <td>37922.292969</td>\n",
       "      <td>56.266648</td>\n",
       "      <td>-145.875000</td>\n",
       "      <td>68.183594</td>\n",
       "    </tr>\n",
       "    <tr>\n",
       "      <th>2</th>\n",
       "      <td>38628.007812</td>\n",
       "      <td>38629.578125</td>\n",
       "      <td>38380.570312</td>\n",
       "      <td>38318.878906</td>\n",
       "      <td>38105.492188</td>\n",
       "      <td>37945.816406</td>\n",
       "      <td>49.791772</td>\n",
       "      <td>-159.675781</td>\n",
       "      <td>22.611719</td>\n",
       "    </tr>\n",
       "    <tr>\n",
       "      <th>3</th>\n",
       "      <td>38471.960938</td>\n",
       "      <td>38596.796875</td>\n",
       "      <td>38398.851562</td>\n",
       "      <td>38334.187500</td>\n",
       "      <td>38129.921875</td>\n",
       "      <td>37963.355469</td>\n",
       "      <td>46.801349</td>\n",
       "      <td>-166.566406</td>\n",
       "      <td>-15.223907</td>\n",
       "    </tr>\n",
       "    <tr>\n",
       "      <th>4</th>\n",
       "      <td>38289.222656</td>\n",
       "      <td>38435.414062</td>\n",
       "      <td>38376.925781</td>\n",
       "      <td>38329.691406</td>\n",
       "      <td>38140.542969</td>\n",
       "      <td>37974.214844</td>\n",
       "      <td>52.281825</td>\n",
       "      <td>-166.328125</td>\n",
       "      <td>-45.444752</td>\n",
       "    </tr>\n",
       "    <tr>\n",
       "      <th>5</th>\n",
       "      <td>38547.132812</td>\n",
       "      <td>38340.804688</td>\n",
       "      <td>38410.968750</td>\n",
       "      <td>38351.433594</td>\n",
       "      <td>38167.648438</td>\n",
       "      <td>37993.312500</td>\n",
       "      <td>55.305771</td>\n",
       "      <td>-174.335938</td>\n",
       "      <td>-71.222992</td>\n",
       "    </tr>\n",
       "    <tr>\n",
       "      <th>6</th>\n",
       "      <td>38413.996094</td>\n",
       "      <td>38520.507812</td>\n",
       "      <td>38411.574219</td>\n",
       "      <td>38357.691406</td>\n",
       "      <td>38184.070312</td>\n",
       "      <td>38007.332031</td>\n",
       "      <td>62.285041</td>\n",
       "      <td>-176.738281</td>\n",
       "      <td>-92.326050</td>\n",
       "    </tr>\n",
       "    <tr>\n",
       "      <th>7</th>\n",
       "      <td>38469.421875</td>\n",
       "      <td>38425.082031</td>\n",
       "      <td>38423.144531</td>\n",
       "      <td>38368.863281</td>\n",
       "      <td>38203.097656</td>\n",
       "      <td>38022.734375</td>\n",
       "      <td>61.129786</td>\n",
       "      <td>-180.363281</td>\n",
       "      <td>-109.933502</td>\n",
       "    </tr>\n",
       "    <tr>\n",
       "      <th>8</th>\n",
       "      <td>38504.519531</td>\n",
       "      <td>38476.441406</td>\n",
       "      <td>38439.417969</td>\n",
       "      <td>38382.429688</td>\n",
       "      <td>38223.191406</td>\n",
       "      <td>38038.792969</td>\n",
       "      <td>59.243574</td>\n",
       "      <td>-184.398438</td>\n",
       "      <td>-124.826492</td>\n",
       "    </tr>\n",
       "    <tr>\n",
       "      <th>9</th>\n",
       "      <td>38608.886719</td>\n",
       "      <td>38525.390625</td>\n",
       "      <td>38473.312500</td>\n",
       "      <td>38405.074219</td>\n",
       "      <td>38248.902344</td>\n",
       "      <td>38057.796875</td>\n",
       "      <td>59.960213</td>\n",
       "      <td>-191.105469</td>\n",
       "      <td>-138.082291</td>\n",
       "    </tr>\n",
       "    <tr>\n",
       "      <th>10</th>\n",
       "      <td>38603.945312</td>\n",
       "      <td>38607.898438</td>\n",
       "      <td>38499.437500</td>\n",
       "      <td>38424.960938</td>\n",
       "      <td>38272.570312</td>\n",
       "      <td>38076.003906</td>\n",
       "      <td>59.533281</td>\n",
       "      <td>-196.566406</td>\n",
       "      <td>-149.779114</td>\n",
       "    </tr>\n",
       "    <tr>\n",
       "      <th>11</th>\n",
       "      <td>38568.609375</td>\n",
       "      <td>38596.878906</td>\n",
       "      <td>38513.273438</td>\n",
       "      <td>38439.324219</td>\n",
       "      <td>38292.308594</td>\n",
       "      <td>38092.425781</td>\n",
       "      <td>55.785693</td>\n",
       "      <td>-199.882812</td>\n",
       "      <td>-159.799850</td>\n",
       "    </tr>\n",
       "    <tr>\n",
       "      <th>12</th>\n",
       "      <td>38622.648438</td>\n",
       "      <td>38579.417969</td>\n",
       "      <td>38535.148438</td>\n",
       "      <td>38457.656250</td>\n",
       "      <td>38314.328125</td>\n",
       "      <td>38110.101562</td>\n",
       "      <td>30.595674</td>\n",
       "      <td>-204.226562</td>\n",
       "      <td>-168.685196</td>\n",
       "    </tr>\n",
       "    <tr>\n",
       "      <th>13</th>\n",
       "      <td>38003.125000</td>\n",
       "      <td>38498.742188</td>\n",
       "      <td>38428.742188</td>\n",
       "      <td>38412.203125</td>\n",
       "      <td>38293.582031</td>\n",
       "      <td>38106.539062</td>\n",
       "      <td>24.283842</td>\n",
       "      <td>-187.042969</td>\n",
       "      <td>-172.356750</td>\n",
       "    </tr>\n",
       "    <tr>\n",
       "      <th>14</th>\n",
       "      <td>37788.558594</td>\n",
       "      <td>37960.210938</td>\n",
       "      <td>38300.707031</td>\n",
       "      <td>38349.835938</td>\n",
       "      <td>38259.914062</td>\n",
       "      <td>38095.937500</td>\n",
       "      <td>22.641664</td>\n",
       "      <td>-163.976562</td>\n",
       "      <td>-170.680725</td>\n",
       "    </tr>\n",
       "    <tr>\n",
       "      <th>15</th>\n",
       "      <td>38122.160156</td>\n",
       "      <td>37855.281250</td>\n",
       "      <td>38264.996094</td>\n",
       "      <td>38327.070312</td>\n",
       "      <td>38250.734375</td>\n",
       "      <td>38096.812500</td>\n",
       "      <td>38.399265</td>\n",
       "      <td>-153.921875</td>\n",
       "      <td>-167.328964</td>\n",
       "    </tr>\n",
       "    <tr>\n",
       "      <th>16</th>\n",
       "      <td>38347.992188</td>\n",
       "      <td>38167.328125</td>\n",
       "      <td>38281.593750</td>\n",
       "      <td>38329.164062</td>\n",
       "      <td>38257.214844</td>\n",
       "      <td>38105.183594</td>\n",
       "      <td>44.196718</td>\n",
       "      <td>-152.031250</td>\n",
       "      <td>-164.269424</td>\n",
       "    </tr>\n",
       "    <tr>\n",
       "      <th>17</th>\n",
       "      <td>38295.167969</td>\n",
       "      <td>38337.429688</td>\n",
       "      <td>38284.308594</td>\n",
       "      <td>38325.761719</td>\n",
       "      <td>38259.746094</td>\n",
       "      <td>38111.515625</td>\n",
       "      <td>46.172218</td>\n",
       "      <td>-148.230469</td>\n",
       "      <td>-161.061630</td>\n",
       "    </tr>\n",
       "    <tr>\n",
       "      <th>18</th>\n",
       "      <td>38354.195312</td>\n",
       "      <td>38306.972656</td>\n",
       "      <td>38298.289062</td>\n",
       "      <td>38328.601562</td>\n",
       "      <td>38266.042969</td>\n",
       "      <td>38119.609375</td>\n",
       "      <td>51.486361</td>\n",
       "      <td>-146.433594</td>\n",
       "      <td>-158.136017</td>\n",
       "    </tr>\n",
       "    <tr>\n",
       "      <th>19</th>\n",
       "      <td>38608.230469</td>\n",
       "      <td>38405.000000</td>\n",
       "      <td>38360.277344</td>\n",
       "      <td>38356.562500</td>\n",
       "      <td>38288.859375</td>\n",
       "      <td>38135.894531</td>\n",
       "      <td>51.400196</td>\n",
       "      <td>-152.964844</td>\n",
       "      <td>-157.101776</td>\n",
       "    </tr>\n",
       "  </tbody>\n",
       "</table>\n",
       "</div>"
      ]
     },
     "metadata": {},
     "execution_count": 161
    }
   ],
   "metadata": {}
  },
  {
   "cell_type": "code",
   "execution_count": 3,
   "source": [
    "import plotly.express as px\r\n",
    "import plotly.graph_objects as go\r\n",
    "import pandas as pd\r\n",
    "\r\n",
    "from fetch_data import *"
   ],
   "outputs": [],
   "metadata": {}
  },
  {
   "cell_type": "code",
   "execution_count": 4,
   "source": [
    "prices_data = fetchPriceData()\r\n",
    "ohlc_data = fetchCandleData()"
   ],
   "outputs": [],
   "metadata": {}
  },
  {
   "cell_type": "code",
   "execution_count": 16,
   "source": [
    "fig = go.Figure(go.Ohlc(x = ohlc_data['time'],\r\n",
    "              open=ohlc_data['open'],\r\n",
    "              high=ohlc_data['high'],\r\n",
    "              low=ohlc_data['low'],\r\n",
    "              close=ohlc_data['close'],\r\n",
    "              name='Price',\r\n",
    "              title='Candle Chart for One Month Data'))\r\n",
    "\r\n",
    "\r\n",
    "fig.update(layout_xaxis_rangeslider_visible=False)\r\n",
    "fig.update_layout(margin=dict(l=10, r=10, t=10, b=10), width=900, height=300)\r\n",
    "fig.show()"
   ],
   "outputs": [
    {
     "output_type": "display_data",
     "data": {
      "application/vnd.plotly.v1+json": {
       "config": {
        "plotlyServerURL": "https://plot.ly"
       },
       "data": [
        {
         "close": [
          34389.18,
          34221.8,
          34457.4,
          34397.36,
          35269.71,
          35750.03,
          36362.48,
          36368.81,
          36189.1,
          35876.22,
          35037.85,
          34868.76,
          34746.75,
          34939.56,
          34799.29,
          34382.31,
          33397.75,
          33378.21,
          33220.88,
          33602.25,
          33681.58,
          33291.59,
          33041.95,
          33058.86,
          33545.64,
          33451.87,
          33788.21,
          33581.45,
          33773.95,
          34735.59,
          34707.61,
          34806.97,
          34603.24,
          34684.76,
          35467.05,
          35639.36,
          35524.4,
          35529.54,
          35440.43,
          34503.1,
          34276.55,
          34627.23,
          33813.32,
          34067.44,
          34170.77,
          33894.44,
          34745.49,
          33905.09,
          34106.34,
          33894.72,
          34147.14,
          34248.03,
          34784.98,
          34684.64,
          34645.81,
          34751.28,
          34246.72,
          33429.41,
          33188.92,
          32706.27,
          32822.72,
          32939.9,
          32573.55,
          33048.43,
          32892.66,
          32913.02,
          33606.84,
          33432.44,
          34062.79,
          33786.01,
          33872.37,
          33713.83,
          33912.71,
          33523.59,
          33686.07,
          33710.66,
          33533.39,
          33801.68,
          34050.25,
          34055.33,
          34461.45,
          34298.3,
          34436.61,
          33747.17,
          33559.75,
          33107.22,
          33153,
          33223.5,
          33084.03,
          33154.79,
          32613.99,
          32599.35,
          32572.97,
          32610.12,
          32013.01,
          32546.56,
          32924.32,
          32812.32,
          33094.15,
          32831.18,
          32637.1,
          31888.02,
          31952.17,
          31568.27,
          31850.54,
          32035.18,
          31673.23,
          31376.65,
          31919.7,
          32014.14,
          31602.17,
          31376.22,
          31603.43,
          31428.43,
          31749.13,
          31787.61,
          31704.69,
          32239.86,
          31957.32,
          31763.83,
          31262.15,
          31699.62,
          31614.67,
          31622.45,
          31841.67,
          31330.71,
          30865.57,
          30713.25,
          30965.83,
          30322.32,
          29696.72,
          29759.2,
          29794.44,
          29883.09,
          29599.88,
          29964.82,
          30932.47,
          31470.67,
          31972.82,
          32182.52,
          32119.05,
          31920.43,
          32083.49,
          31996.3,
          32306.46,
          32335.73,
          32265.14,
          32653.66,
          32616.41,
          32382.71,
          32501.34,
          32180.83,
          33367.69,
          33702.78,
          33950.65,
          33945.7,
          33934.73,
          34296.21,
          34055.87,
          34231.04,
          34494.27,
          34371.44,
          34093.53,
          34435.26,
          34624.04,
          38253.37,
          38714.27,
          38503.97,
          38342.04,
          39841.37,
          37413.74,
          36547.98,
          36982.81,
          37806.6,
          38147.61,
          38001.27,
          39265.54,
          39891.52,
          39377.93,
          40192.36,
          40780.78
         ],
         "high": [
          34537.96,
          34940.94,
          34825.79,
          35000.92,
          35269.71,
          35750.03,
          36401.02,
          36403.96,
          36412.01,
          36029.85,
          35273.74,
          35339.16,
          35191.16,
          34939.56,
          34863.9,
          35171.49,
          34443.23,
          33531.93,
          33884,
          33617.21,
          33681.58,
          33779.55,
          33090.17,
          33670.24,
          33551.76,
          33660.64,
          33788.21,
          33950.79,
          33842,
          34735.59,
          34707.61,
          34915.17,
          34835.23,
          34788.71,
          35467.05,
          35648.68,
          35571.29,
          35629.66,
          35999.84,
          35394.21,
          34458.11,
          34627.23,
          33813.32,
          34067.44,
          34260.8,
          34174.29,
          34786.54,
          34981.76,
          34441.16,
          34103.39,
          34147.14,
          34250.68,
          34860.18,
          34856.88,
          34896.27,
          34751.28,
          34721.15,
          33932.25,
          33422.37,
          32706.27,
          32822.72,
          33059.59,
          32998.31,
          33048.43,
          33056.56,
          32998.33,
          33606.84,
          33695.03,
          34062.79,
          34173.03,
          33884.63,
          33914.81,
          33947.8,
          34247.22,
          33686.07,
          33819.37,
          33699.58,
          33840.44,
          34050.25,
          34093.79,
          34596.64,
          34298.3,
          34596.99,
          34356.95,
          33743.13,
          33421.94,
          33153,
          33260.85,
          33218.42,
          33327.48,
          33209.87,
          32871.02,
          32663.55,
          32728.92,
          32019.67,
          32546.56,
          32924.32,
          32967.9,
          33094.15,
          33098.66,
          32815.48,
          32592.85,
          32040.19,
          31836.14,
          31888.52,
          32035.18,
          32022.43,
          31762.61,
          31919.7,
          32196.82,
          31908.97,
          31609.88,
          31603.43,
          31973.26,
          31804.41,
          31833.02,
          31923.85,
          32239.86,
          32198.4,
          31889.55,
          31854.82,
          31831.69,
          31836.85,
          31919.39,
          31931.42,
          31681.1,
          31328.28,
          30837.24,
          30965.83,
          30974.9,
          29772.66,
          29875.25,
          29851.67,
          29922.17,
          29931.06,
          29964.82,
          30932.47,
          31470.67,
          31972.82,
          32268.76,
          32119.05,
          32313.67,
          32115.62,
          32175.18,
          32306.46,
          32540.29,
          32377.7,
          32858.58,
          32701.46,
          32506.71,
          32547.58,
          32405.85,
          33367.69,
          33702.78,
          33950.65,
          33945.7,
          33934.73,
          34458.75,
          34164.33,
          34296.87,
          34494.27,
          34749.94,
          34437.34,
          34453.68,
          34624.04,
          38295.37,
          38714.27,
          38503.97,
          38700.54,
          39841.37,
          39580.48,
          37385.81,
          37179.9,
          37806.6,
          38693.71,
          38195.58,
          39265.54,
          39891.52,
          40065.84,
          40192.36,
          40780.78
         ],
         "low": [
          34253.98,
          34189.04,
          34457.4,
          34397.36,
          34646.86,
          34980.1,
          35669.22,
          36233.9,
          36189.1,
          35876.22,
          34823.96,
          34481.87,
          34746.75,
          34252.39,
          34674.11,
          34382.31,
          33397.75,
          33309.86,
          33220.88,
          33323.07,
          33056.07,
          33291.59,
          32848.18,
          33058.86,
          33100.69,
          33451.87,
          33222.9,
          33581.45,
          33497.64,
          34590.2,
          34576.6,
          34609.26,
          34603.24,
          34564.75,
          34739.02,
          35485.06,
          35373.68,
          35522.4,
          35440.43,
          34503.1,
          34276.55,
          34284.64,
          33591.27,
          33477.87,
          33918.94,
          33894.44,
          33977.38,
          33905.09,
          34106.34,
          33894.72,
          33790.48,
          34197.82,
          34480.42,
          34684.64,
          34645.81,
          34596.44,
          34246.72,
          33310.11,
          33188.92,
          32419.56,
          32487.44,
          32837.51,
          32573.55,
          32406.33,
          32892.66,
          32913.02,
          32881.88,
          33432.44,
          33496.15,
          33786.01,
          33725.32,
          33713.83,
          33743.2,
          33493.32,
          33407.34,
          33667.12,
          33516.68,
          33609.82,
          33819.47,
          34010.55,
          33955.94,
          34131.94,
          34257.48,
          33747.17,
          33559.75,
          33107.22,
          32882.91,
          33197.15,
          32882.59,
          33154.79,
          32482.05,
          32599.35,
          32418.78,
          32510.71,
          31886.58,
          31856.38,
          32465.1,
          32812.32,
          32916.83,
          32831.18,
          32637.1,
          31888.02,
          31899.8,
          31372.65,
          31676.53,
          31641.94,
          31673.23,
          31376.65,
          31174.14,
          32014.14,
          31602.17,
          31340.32,
          31370.61,
          31428.43,
          31508.85,
          31738.99,
          31704.69,
          31588.67,
          31957.32,
          31763.83,
          31262.15,
          31469.26,
          31614.67,
          31602.89,
          31648.28,
          31330.71,
          30693.31,
          30713.25,
          30800.31,
          30322.32,
          29689.32,
          29612.2,
          29634.61,
          29746.81,
          29599.88,
          29659.3,
          29938.67,
          30824.45,
          31534.49,
          31988.84,
          31650.08,
          31920.43,
          31969.43,
          31926.57,
          31991.09,
          32335.73,
          32265.14,
          32385.97,
          32612.74,
          32382.71,
          32378.35,
          32180.83,
          32311.14,
          33518.75,
          33672.39,
          33655.73,
          33834.75,
          33872.29,
          33813.3,
          33984.61,
          34225.59,
          34371.44,
          34093.53,
          34173.7,
          34392.01,
          35527.01,
          38172.55,
          38054.32,
          38342.04,
          38641.07,
          37230.72,
          36547.98,
          36890.36,
          36973.09,
          38146.78,
          37691.22,
          38056.91,
          39076.59,
          39377.93,
          39512.86,
          40780.78
         ],
         "name": "Price",
         "open": [
          34537.96,
          34940.94,
          34497.47,
          34556.84,
          34646.86,
          34980.1,
          35669.22,
          36233.9,
          36412.01,
          35968.99,
          35273.74,
          35339.16,
          35191.16,
          34252.39,
          34826.86,
          35171.49,
          34288.15,
          33531.93,
          33884,
          33569.66,
          33056.07,
          33655.7,
          32949.54,
          33670.24,
          33100.69,
          33660.64,
          33352.78,
          33950.79,
          33497.64,
          34709.62,
          34576.6,
          34662.15,
          34835.23,
          34788.71,
          34739.02,
          35648.68,
          35571.29,
          35553.36,
          35612.53,
          35394.21,
          34448.77,
          34353.72,
          33592.64,
          33739.84,
          34206.73,
          33906.63,
          33977.38,
          34900.86,
          34250.26,
          34103.39,
          34104.92,
          34197.82,
          34480.42,
          34856.88,
          34896.27,
          34596.44,
          34721.15,
          33932.25,
          33422.37,
          32419.56,
          32701.63,
          32925.97,
          32998.31,
          32933.58,
          33007.32,
          32956.07,
          32881.88,
          33695.03,
          33496.15,
          33971.3,
          33884.63,
          33865.12,
          33947.8,
          33915.11,
          33502.76,
          33667.12,
          33516.68,
          33609.82,
          33829.98,
          34016.97,
          33963.79,
          34295.4,
          34596.99,
          34356.95,
          33743.13,
          33421.94,
          32882.91,
          33260.85,
          33218.42,
          33234.58,
          33209.87,
          32871.02,
          32418.78,
          32728.92,
          31886.58,
          32052.95,
          32492.59,
          32879.81,
          32947.9,
          32878.5,
          32815.48,
          32515.52,
          32040.19,
          31836.14,
          31676.53,
          31686.64,
          31985.02,
          31762.61,
          31174.14,
          32196.82,
          31896.02,
          31404.37,
          31370.61,
          31530.64,
          31508.85,
          31833.02,
          31923.85,
          31588.67,
          32198.4,
          31880.64,
          31854.82,
          31469.26,
          31716.69,
          31919.39,
          31648.28,
          31681.1,
          31328.28,
          30837.24,
          30800.31,
          30928.21,
          29689.32,
          29875.25,
          29753.95,
          29922.17,
          29835.41,
          29916.71,
          29938.67,
          30824.45,
          31569.18,
          31988.84,
          31650.08,
          32313.67,
          32011.08,
          32169.65,
          31991.09,
          32540.29,
          32377.7,
          32385.97,
          32612.74,
          32506.71,
          32386.95,
          32405.85,
          32311.14,
          33518.75,
          33672.39,
          33847.83,
          33883.55,
          33872.29,
          33813.3,
          34296.87,
          34225.59,
          34749.94,
          34437.34,
          34270.91,
          34392.01,
          35527.01,
          38172.55,
          38054.32,
          38429.73,
          38641.07,
          39580.48,
          37226.65,
          36890.36,
          36973.09,
          38146.78,
          38195.58,
          38056.91,
          39076.59,
          39731.45,
          39927.01,
          40780.78
         ],
         "type": "ohlc",
         "x": [
          "2021-06-28T16:00:00",
          "2021-06-28T20:00:00",
          "2021-06-29T00:00:00",
          "2021-06-29T04:00:00",
          "2021-06-29T08:00:00",
          "2021-06-29T12:00:00",
          "2021-06-29T16:00:00",
          "2021-06-29T20:00:00",
          "2021-06-30T00:00:00",
          "2021-06-30T04:00:00",
          "2021-06-30T08:00:00",
          "2021-06-30T12:00:00",
          "2021-06-30T16:00:00",
          "2021-06-30T20:00:00",
          "2021-07-01T00:00:00",
          "2021-07-01T04:00:00",
          "2021-07-01T08:00:00",
          "2021-07-01T12:00:00",
          "2021-07-01T16:00:00",
          "2021-07-01T20:00:00",
          "2021-07-02T00:00:00",
          "2021-07-02T04:00:00",
          "2021-07-02T08:00:00",
          "2021-07-02T12:00:00",
          "2021-07-02T16:00:00",
          "2021-07-02T20:00:00",
          "2021-07-03T00:00:00",
          "2021-07-03T04:00:00",
          "2021-07-03T08:00:00",
          "2021-07-03T12:00:00",
          "2021-07-03T16:00:00",
          "2021-07-03T20:00:00",
          "2021-07-04T00:00:00",
          "2021-07-04T04:00:00",
          "2021-07-04T08:00:00",
          "2021-07-04T12:00:00",
          "2021-07-04T16:00:00",
          "2021-07-04T20:00:00",
          "2021-07-05T00:00:00",
          "2021-07-05T04:00:00",
          "2021-07-05T08:00:00",
          "2021-07-05T12:00:00",
          "2021-07-05T16:00:00",
          "2021-07-05T20:00:00",
          "2021-07-06T00:00:00",
          "2021-07-06T04:00:00",
          "2021-07-06T08:00:00",
          "2021-07-06T12:00:00",
          "2021-07-06T16:00:00",
          "2021-07-06T20:00:00",
          "2021-07-07T00:00:00",
          "2021-07-07T04:00:00",
          "2021-07-07T08:00:00",
          "2021-07-07T12:00:00",
          "2021-07-07T16:00:00",
          "2021-07-07T20:00:00",
          "2021-07-08T00:00:00",
          "2021-07-08T04:00:00",
          "2021-07-08T08:00:00",
          "2021-07-08T12:00:00",
          "2021-07-08T16:00:00",
          "2021-07-08T20:00:00",
          "2021-07-09T00:00:00",
          "2021-07-09T04:00:00",
          "2021-07-09T08:00:00",
          "2021-07-09T12:00:00",
          "2021-07-09T16:00:00",
          "2021-07-09T20:00:00",
          "2021-07-10T00:00:00",
          "2021-07-10T04:00:00",
          "2021-07-10T08:00:00",
          "2021-07-10T12:00:00",
          "2021-07-10T16:00:00",
          "2021-07-10T20:00:00",
          "2021-07-11T00:00:00",
          "2021-07-11T04:00:00",
          "2021-07-11T08:00:00",
          "2021-07-11T12:00:00",
          "2021-07-11T16:00:00",
          "2021-07-11T20:00:00",
          "2021-07-12T00:00:00",
          "2021-07-12T04:00:00",
          "2021-07-12T08:00:00",
          "2021-07-12T12:00:00",
          "2021-07-12T16:00:00",
          "2021-07-12T20:00:00",
          "2021-07-13T00:00:00",
          "2021-07-13T04:00:00",
          "2021-07-13T08:00:00",
          "2021-07-13T12:00:00",
          "2021-07-13T16:00:00",
          "2021-07-13T20:00:00",
          "2021-07-14T00:00:00",
          "2021-07-14T04:00:00",
          "2021-07-14T08:00:00",
          "2021-07-14T12:00:00",
          "2021-07-14T16:00:00",
          "2021-07-14T20:00:00",
          "2021-07-15T00:00:00",
          "2021-07-15T04:00:00",
          "2021-07-15T08:00:00",
          "2021-07-15T12:00:00",
          "2021-07-15T16:00:00",
          "2021-07-15T20:00:00",
          "2021-07-16T00:00:00",
          "2021-07-16T04:00:00",
          "2021-07-16T08:00:00",
          "2021-07-16T12:00:00",
          "2021-07-16T16:00:00",
          "2021-07-16T20:00:00",
          "2021-07-17T00:00:00",
          "2021-07-17T04:00:00",
          "2021-07-17T08:00:00",
          "2021-07-17T12:00:00",
          "2021-07-17T16:00:00",
          "2021-07-17T20:00:00",
          "2021-07-18T00:00:00",
          "2021-07-18T04:00:00",
          "2021-07-18T08:00:00",
          "2021-07-18T12:00:00",
          "2021-07-18T16:00:00",
          "2021-07-18T20:00:00",
          "2021-07-19T00:00:00",
          "2021-07-19T04:00:00",
          "2021-07-19T08:00:00",
          "2021-07-19T12:00:00",
          "2021-07-19T16:00:00",
          "2021-07-19T20:00:00",
          "2021-07-20T00:00:00",
          "2021-07-20T04:00:00",
          "2021-07-20T08:00:00",
          "2021-07-20T12:00:00",
          "2021-07-20T16:00:00",
          "2021-07-20T20:00:00",
          "2021-07-21T00:00:00",
          "2021-07-21T04:00:00",
          "2021-07-21T08:00:00",
          "2021-07-21T12:00:00",
          "2021-07-21T16:00:00",
          "2021-07-21T20:00:00",
          "2021-07-22T00:00:00",
          "2021-07-22T04:00:00",
          "2021-07-22T08:00:00",
          "2021-07-22T12:00:00",
          "2021-07-22T16:00:00",
          "2021-07-22T20:00:00",
          "2021-07-23T00:00:00",
          "2021-07-23T04:00:00",
          "2021-07-23T08:00:00",
          "2021-07-23T12:00:00",
          "2021-07-23T16:00:00",
          "2021-07-23T20:00:00",
          "2021-07-24T00:00:00",
          "2021-07-24T04:00:00",
          "2021-07-24T08:00:00",
          "2021-07-24T12:00:00",
          "2021-07-24T16:00:00",
          "2021-07-24T20:00:00",
          "2021-07-25T00:00:00",
          "2021-07-25T04:00:00",
          "2021-07-25T08:00:00",
          "2021-07-25T12:00:00",
          "2021-07-25T16:00:00",
          "2021-07-25T20:00:00",
          "2021-07-26T00:00:00",
          "2021-07-26T04:00:00",
          "2021-07-26T08:00:00",
          "2021-07-26T12:00:00",
          "2021-07-26T16:00:00",
          "2021-07-26T20:00:00",
          "2021-07-27T00:00:00",
          "2021-07-27T04:00:00",
          "2021-07-27T08:00:00",
          "2021-07-27T12:00:00",
          "2021-07-27T16:00:00",
          "2021-07-27T20:00:00",
          "2021-07-28T00:00:00",
          "2021-07-28T04:00:00",
          "2021-07-28T08:00:00",
          "2021-07-28T12:00:00",
          "2021-07-28T16:00:00"
         ]
        }
       ],
       "layout": {
        "height": 300,
        "margin": {
         "b": 10,
         "l": 10,
         "r": 10,
         "t": 10
        },
        "template": {
         "data": {
          "bar": [
           {
            "error_x": {
             "color": "#2a3f5f"
            },
            "error_y": {
             "color": "#2a3f5f"
            },
            "marker": {
             "line": {
              "color": "#E5ECF6",
              "width": 0.5
             },
             "pattern": {
              "fillmode": "overlay",
              "size": 10,
              "solidity": 0.2
             }
            },
            "type": "bar"
           }
          ],
          "barpolar": [
           {
            "marker": {
             "line": {
              "color": "#E5ECF6",
              "width": 0.5
             },
             "pattern": {
              "fillmode": "overlay",
              "size": 10,
              "solidity": 0.2
             }
            },
            "type": "barpolar"
           }
          ],
          "carpet": [
           {
            "aaxis": {
             "endlinecolor": "#2a3f5f",
             "gridcolor": "white",
             "linecolor": "white",
             "minorgridcolor": "white",
             "startlinecolor": "#2a3f5f"
            },
            "baxis": {
             "endlinecolor": "#2a3f5f",
             "gridcolor": "white",
             "linecolor": "white",
             "minorgridcolor": "white",
             "startlinecolor": "#2a3f5f"
            },
            "type": "carpet"
           }
          ],
          "choropleth": [
           {
            "colorbar": {
             "outlinewidth": 0,
             "ticks": ""
            },
            "type": "choropleth"
           }
          ],
          "contour": [
           {
            "colorbar": {
             "outlinewidth": 0,
             "ticks": ""
            },
            "colorscale": [
             [
              0,
              "#0d0887"
             ],
             [
              0.1111111111111111,
              "#46039f"
             ],
             [
              0.2222222222222222,
              "#7201a8"
             ],
             [
              0.3333333333333333,
              "#9c179e"
             ],
             [
              0.4444444444444444,
              "#bd3786"
             ],
             [
              0.5555555555555556,
              "#d8576b"
             ],
             [
              0.6666666666666666,
              "#ed7953"
             ],
             [
              0.7777777777777778,
              "#fb9f3a"
             ],
             [
              0.8888888888888888,
              "#fdca26"
             ],
             [
              1,
              "#f0f921"
             ]
            ],
            "type": "contour"
           }
          ],
          "contourcarpet": [
           {
            "colorbar": {
             "outlinewidth": 0,
             "ticks": ""
            },
            "type": "contourcarpet"
           }
          ],
          "heatmap": [
           {
            "colorbar": {
             "outlinewidth": 0,
             "ticks": ""
            },
            "colorscale": [
             [
              0,
              "#0d0887"
             ],
             [
              0.1111111111111111,
              "#46039f"
             ],
             [
              0.2222222222222222,
              "#7201a8"
             ],
             [
              0.3333333333333333,
              "#9c179e"
             ],
             [
              0.4444444444444444,
              "#bd3786"
             ],
             [
              0.5555555555555556,
              "#d8576b"
             ],
             [
              0.6666666666666666,
              "#ed7953"
             ],
             [
              0.7777777777777778,
              "#fb9f3a"
             ],
             [
              0.8888888888888888,
              "#fdca26"
             ],
             [
              1,
              "#f0f921"
             ]
            ],
            "type": "heatmap"
           }
          ],
          "heatmapgl": [
           {
            "colorbar": {
             "outlinewidth": 0,
             "ticks": ""
            },
            "colorscale": [
             [
              0,
              "#0d0887"
             ],
             [
              0.1111111111111111,
              "#46039f"
             ],
             [
              0.2222222222222222,
              "#7201a8"
             ],
             [
              0.3333333333333333,
              "#9c179e"
             ],
             [
              0.4444444444444444,
              "#bd3786"
             ],
             [
              0.5555555555555556,
              "#d8576b"
             ],
             [
              0.6666666666666666,
              "#ed7953"
             ],
             [
              0.7777777777777778,
              "#fb9f3a"
             ],
             [
              0.8888888888888888,
              "#fdca26"
             ],
             [
              1,
              "#f0f921"
             ]
            ],
            "type": "heatmapgl"
           }
          ],
          "histogram": [
           {
            "marker": {
             "pattern": {
              "fillmode": "overlay",
              "size": 10,
              "solidity": 0.2
             }
            },
            "type": "histogram"
           }
          ],
          "histogram2d": [
           {
            "colorbar": {
             "outlinewidth": 0,
             "ticks": ""
            },
            "colorscale": [
             [
              0,
              "#0d0887"
             ],
             [
              0.1111111111111111,
              "#46039f"
             ],
             [
              0.2222222222222222,
              "#7201a8"
             ],
             [
              0.3333333333333333,
              "#9c179e"
             ],
             [
              0.4444444444444444,
              "#bd3786"
             ],
             [
              0.5555555555555556,
              "#d8576b"
             ],
             [
              0.6666666666666666,
              "#ed7953"
             ],
             [
              0.7777777777777778,
              "#fb9f3a"
             ],
             [
              0.8888888888888888,
              "#fdca26"
             ],
             [
              1,
              "#f0f921"
             ]
            ],
            "type": "histogram2d"
           }
          ],
          "histogram2dcontour": [
           {
            "colorbar": {
             "outlinewidth": 0,
             "ticks": ""
            },
            "colorscale": [
             [
              0,
              "#0d0887"
             ],
             [
              0.1111111111111111,
              "#46039f"
             ],
             [
              0.2222222222222222,
              "#7201a8"
             ],
             [
              0.3333333333333333,
              "#9c179e"
             ],
             [
              0.4444444444444444,
              "#bd3786"
             ],
             [
              0.5555555555555556,
              "#d8576b"
             ],
             [
              0.6666666666666666,
              "#ed7953"
             ],
             [
              0.7777777777777778,
              "#fb9f3a"
             ],
             [
              0.8888888888888888,
              "#fdca26"
             ],
             [
              1,
              "#f0f921"
             ]
            ],
            "type": "histogram2dcontour"
           }
          ],
          "mesh3d": [
           {
            "colorbar": {
             "outlinewidth": 0,
             "ticks": ""
            },
            "type": "mesh3d"
           }
          ],
          "parcoords": [
           {
            "line": {
             "colorbar": {
              "outlinewidth": 0,
              "ticks": ""
             }
            },
            "type": "parcoords"
           }
          ],
          "pie": [
           {
            "automargin": true,
            "type": "pie"
           }
          ],
          "scatter": [
           {
            "marker": {
             "colorbar": {
              "outlinewidth": 0,
              "ticks": ""
             }
            },
            "type": "scatter"
           }
          ],
          "scatter3d": [
           {
            "line": {
             "colorbar": {
              "outlinewidth": 0,
              "ticks": ""
             }
            },
            "marker": {
             "colorbar": {
              "outlinewidth": 0,
              "ticks": ""
             }
            },
            "type": "scatter3d"
           }
          ],
          "scattercarpet": [
           {
            "marker": {
             "colorbar": {
              "outlinewidth": 0,
              "ticks": ""
             }
            },
            "type": "scattercarpet"
           }
          ],
          "scattergeo": [
           {
            "marker": {
             "colorbar": {
              "outlinewidth": 0,
              "ticks": ""
             }
            },
            "type": "scattergeo"
           }
          ],
          "scattergl": [
           {
            "marker": {
             "colorbar": {
              "outlinewidth": 0,
              "ticks": ""
             }
            },
            "type": "scattergl"
           }
          ],
          "scattermapbox": [
           {
            "marker": {
             "colorbar": {
              "outlinewidth": 0,
              "ticks": ""
             }
            },
            "type": "scattermapbox"
           }
          ],
          "scatterpolar": [
           {
            "marker": {
             "colorbar": {
              "outlinewidth": 0,
              "ticks": ""
             }
            },
            "type": "scatterpolar"
           }
          ],
          "scatterpolargl": [
           {
            "marker": {
             "colorbar": {
              "outlinewidth": 0,
              "ticks": ""
             }
            },
            "type": "scatterpolargl"
           }
          ],
          "scatterternary": [
           {
            "marker": {
             "colorbar": {
              "outlinewidth": 0,
              "ticks": ""
             }
            },
            "type": "scatterternary"
           }
          ],
          "surface": [
           {
            "colorbar": {
             "outlinewidth": 0,
             "ticks": ""
            },
            "colorscale": [
             [
              0,
              "#0d0887"
             ],
             [
              0.1111111111111111,
              "#46039f"
             ],
             [
              0.2222222222222222,
              "#7201a8"
             ],
             [
              0.3333333333333333,
              "#9c179e"
             ],
             [
              0.4444444444444444,
              "#bd3786"
             ],
             [
              0.5555555555555556,
              "#d8576b"
             ],
             [
              0.6666666666666666,
              "#ed7953"
             ],
             [
              0.7777777777777778,
              "#fb9f3a"
             ],
             [
              0.8888888888888888,
              "#fdca26"
             ],
             [
              1,
              "#f0f921"
             ]
            ],
            "type": "surface"
           }
          ],
          "table": [
           {
            "cells": {
             "fill": {
              "color": "#EBF0F8"
             },
             "line": {
              "color": "white"
             }
            },
            "header": {
             "fill": {
              "color": "#C8D4E3"
             },
             "line": {
              "color": "white"
             }
            },
            "type": "table"
           }
          ]
         },
         "layout": {
          "annotationdefaults": {
           "arrowcolor": "#2a3f5f",
           "arrowhead": 0,
           "arrowwidth": 1
          },
          "autotypenumbers": "strict",
          "coloraxis": {
           "colorbar": {
            "outlinewidth": 0,
            "ticks": ""
           }
          },
          "colorscale": {
           "diverging": [
            [
             0,
             "#8e0152"
            ],
            [
             0.1,
             "#c51b7d"
            ],
            [
             0.2,
             "#de77ae"
            ],
            [
             0.3,
             "#f1b6da"
            ],
            [
             0.4,
             "#fde0ef"
            ],
            [
             0.5,
             "#f7f7f7"
            ],
            [
             0.6,
             "#e6f5d0"
            ],
            [
             0.7,
             "#b8e186"
            ],
            [
             0.8,
             "#7fbc41"
            ],
            [
             0.9,
             "#4d9221"
            ],
            [
             1,
             "#276419"
            ]
           ],
           "sequential": [
            [
             0,
             "#0d0887"
            ],
            [
             0.1111111111111111,
             "#46039f"
            ],
            [
             0.2222222222222222,
             "#7201a8"
            ],
            [
             0.3333333333333333,
             "#9c179e"
            ],
            [
             0.4444444444444444,
             "#bd3786"
            ],
            [
             0.5555555555555556,
             "#d8576b"
            ],
            [
             0.6666666666666666,
             "#ed7953"
            ],
            [
             0.7777777777777778,
             "#fb9f3a"
            ],
            [
             0.8888888888888888,
             "#fdca26"
            ],
            [
             1,
             "#f0f921"
            ]
           ],
           "sequentialminus": [
            [
             0,
             "#0d0887"
            ],
            [
             0.1111111111111111,
             "#46039f"
            ],
            [
             0.2222222222222222,
             "#7201a8"
            ],
            [
             0.3333333333333333,
             "#9c179e"
            ],
            [
             0.4444444444444444,
             "#bd3786"
            ],
            [
             0.5555555555555556,
             "#d8576b"
            ],
            [
             0.6666666666666666,
             "#ed7953"
            ],
            [
             0.7777777777777778,
             "#fb9f3a"
            ],
            [
             0.8888888888888888,
             "#fdca26"
            ],
            [
             1,
             "#f0f921"
            ]
           ]
          },
          "colorway": [
           "#636efa",
           "#EF553B",
           "#00cc96",
           "#ab63fa",
           "#FFA15A",
           "#19d3f3",
           "#FF6692",
           "#B6E880",
           "#FF97FF",
           "#FECB52"
          ],
          "font": {
           "color": "#2a3f5f"
          },
          "geo": {
           "bgcolor": "white",
           "lakecolor": "white",
           "landcolor": "#E5ECF6",
           "showlakes": true,
           "showland": true,
           "subunitcolor": "white"
          },
          "hoverlabel": {
           "align": "left"
          },
          "hovermode": "closest",
          "mapbox": {
           "style": "light"
          },
          "paper_bgcolor": "white",
          "plot_bgcolor": "#E5ECF6",
          "polar": {
           "angularaxis": {
            "gridcolor": "white",
            "linecolor": "white",
            "ticks": ""
           },
           "bgcolor": "#E5ECF6",
           "radialaxis": {
            "gridcolor": "white",
            "linecolor": "white",
            "ticks": ""
           }
          },
          "scene": {
           "xaxis": {
            "backgroundcolor": "#E5ECF6",
            "gridcolor": "white",
            "gridwidth": 2,
            "linecolor": "white",
            "showbackground": true,
            "ticks": "",
            "zerolinecolor": "white"
           },
           "yaxis": {
            "backgroundcolor": "#E5ECF6",
            "gridcolor": "white",
            "gridwidth": 2,
            "linecolor": "white",
            "showbackground": true,
            "ticks": "",
            "zerolinecolor": "white"
           },
           "zaxis": {
            "backgroundcolor": "#E5ECF6",
            "gridcolor": "white",
            "gridwidth": 2,
            "linecolor": "white",
            "showbackground": true,
            "ticks": "",
            "zerolinecolor": "white"
           }
          },
          "shapedefaults": {
           "line": {
            "color": "#2a3f5f"
           }
          },
          "ternary": {
           "aaxis": {
            "gridcolor": "white",
            "linecolor": "white",
            "ticks": ""
           },
           "baxis": {
            "gridcolor": "white",
            "linecolor": "white",
            "ticks": ""
           },
           "bgcolor": "#E5ECF6",
           "caxis": {
            "gridcolor": "white",
            "linecolor": "white",
            "ticks": ""
           }
          },
          "title": {
           "x": 0.05
          },
          "xaxis": {
           "automargin": true,
           "gridcolor": "white",
           "linecolor": "white",
           "ticks": "",
           "title": {
            "standoff": 15
           },
           "zerolinecolor": "white",
           "zerolinewidth": 2
          },
          "yaxis": {
           "automargin": true,
           "gridcolor": "white",
           "linecolor": "white",
           "ticks": "",
           "title": {
            "standoff": 15
           },
           "zerolinecolor": "white",
           "zerolinewidth": 2
          }
         }
        },
        "width": 900,
        "xaxis": {
         "rangeslider": {
          "visible": false
         }
        }
       }
      }
     },
     "metadata": {}
    }
   ],
   "metadata": {}
  },
  {
   "cell_type": "code",
   "execution_count": null,
   "source": [],
   "outputs": [],
   "metadata": {}
  }
 ],
 "metadata": {
  "orig_nbformat": 4,
  "language_info": {
   "name": "python",
   "version": "3.8.3",
   "mimetype": "text/x-python",
   "codemirror_mode": {
    "name": "ipython",
    "version": 3
   },
   "pygments_lexer": "ipython3",
   "nbconvert_exporter": "python",
   "file_extension": ".py"
  },
  "kernelspec": {
   "name": "python3",
   "display_name": "Python 3.8.3 64-bit ('env': venv)"
  },
  "interpreter": {
   "hash": "b893247408024fe5d1038e626ab44580fc41f262fbd12f94e1302e19a6444313"
  }
 },
 "nbformat": 4,
 "nbformat_minor": 2
}