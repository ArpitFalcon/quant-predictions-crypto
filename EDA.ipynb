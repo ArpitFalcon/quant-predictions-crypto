{
 "cells": [
  {
   "cell_type": "markdown",
   "source": [
    "# Exploratory Data Analysis\r\n",
    "### Stock Prices Data\r\n",
    "### Stock OHLC Data"
   ],
   "metadata": {}
  },
  {
   "cell_type": "code",
   "execution_count": 31,
   "source": [
    "import pandas as pd\r\n",
    "\r\n",
    "import matplotlib.pyplot as plt\r\n",
    "import matplotlib.dates as mdates\r\n",
    "import mplfinance as mpf  # https://github.com/matplotlib/mplfinance Plot financial data\r\n",
    "import seaborn as sns\r\n",
    "\r\n",
    "from fetch_data import *\r\n"
   ],
   "outputs": [],
   "metadata": {}
  },
  {
   "cell_type": "code",
   "execution_count": 35,
   "source": [
    "# Get data from our API\r\n",
    "prices_data = fetchPriceData(id='bitcoin', vs_currency='usd')\r\n",
    "ohlc_data = fetchCandleData(id='bitcoin', vs_currency='usd')\r\n",
    "\r\n",
    "prices_data['time'] = pd.to_datetime(prices_data['time'])\r\n",
    "ohlc_data['time'] = pd.to_datetime(ohlc_data['time'])"
   ],
   "outputs": [],
   "metadata": {}
  },
  {
   "cell_type": "code",
   "execution_count": 36,
   "source": [
    "print(prices_data.head())"
   ],
   "outputs": [
    {
     "output_type": "stream",
     "name": "stdout",
     "text": [
      "         prices   market_caps  total_volumes                time\n",
      "0  50057.226533  9.396123e+11   9.004536e+10 2021-05-14 01:07:01\n",
      "1  50095.884025  9.385851e+11   8.682874e+10 2021-05-14 02:01:00\n",
      "2  49636.688723  9.286810e+11   8.397694e+10 2021-05-14 03:02:32\n",
      "3  49203.985695  9.205884e+11   8.128488e+10 2021-05-14 04:01:51\n",
      "4  49152.042131  9.196187e+11   8.160250e+10 2021-05-14 05:01:54\n"
     ]
    }
   ],
   "metadata": {}
  },
  {
   "cell_type": "code",
   "execution_count": 37,
   "source": [
    "print(ohlc_data.head())"
   ],
   "outputs": [
    {
     "output_type": "stream",
     "name": "stdout",
     "text": [
      "                 time      open      high       low     close\n",
      "0 2021-06-28 04:00:00  34696.00  34696.00  34445.70  34477.20\n",
      "1 2021-06-28 08:00:00  34547.50  34547.50  34429.27  34534.68\n",
      "2 2021-06-28 12:00:00  35171.13  35171.13  34249.49  34249.49\n",
      "3 2021-06-28 16:00:00  34152.18  34537.96  34152.18  34389.18\n",
      "4 2021-06-28 20:00:00  34940.94  34940.94  34189.04  34221.80\n"
     ]
    }
   ],
   "metadata": {}
  },
  {
   "cell_type": "code",
   "execution_count": 40,
   "source": [
    "## OHLC data is for around 30 days, and Prices data is for around 75 days due to API constraints\r\n",
    "print(prices_data['time'].max() - prices_data['time'].min())\r\n",
    "print(ohlc_data['time'].max() - ohlc_data['time'].min())"
   ],
   "outputs": [
    {
     "output_type": "stream",
     "name": "stdout",
     "text": [
      "74 days 22:53:58\n",
      "30 days 00:00:00\n"
     ]
    }
   ],
   "metadata": {}
  },
  {
   "cell_type": "code",
   "execution_count": null,
   "source": [],
   "outputs": [],
   "metadata": {}
  }
 ],
 "metadata": {
  "orig_nbformat": 4,
  "language_info": {
   "name": "python",
   "version": "3.8.3",
   "mimetype": "text/x-python",
   "codemirror_mode": {
    "name": "ipython",
    "version": 3
   },
   "pygments_lexer": "ipython3",
   "nbconvert_exporter": "python",
   "file_extension": ".py"
  },
  "kernelspec": {
   "name": "python3",
   "display_name": "Python 3.8.3 64-bit ('env': venv)"
  },
  "interpreter": {
   "hash": "b893247408024fe5d1038e626ab44580fc41f262fbd12f94e1302e19a6444313"
  }
 },
 "nbformat": 4,
 "nbformat_minor": 2
}